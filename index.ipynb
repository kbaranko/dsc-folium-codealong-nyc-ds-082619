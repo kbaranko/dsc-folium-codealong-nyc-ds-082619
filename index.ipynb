{
 "cells": [
  {
   "cell_type": "markdown",
   "metadata": {},
   "source": [
    "# Folium - Codealong\n",
    "\n",
    "## Introduction \n",
    "\n",
    "In this codealong, we'll take a look at how to create an interactive map using the Folium package. From there, we'll return to APIs in the final lab for the day where you'll make an interactive map from your requests to the API!\n",
    "\n",
    "## Objectives\n",
    "\n",
    "You will be able to: \n",
    "* Create maps with Folium"
   ]
  },
  {
   "cell_type": "markdown",
   "metadata": {},
   "source": [
    "## Creating a Basemap\n",
    "\n",
    "Here we'll take a look at creating a basemap over the London region!"
   ]
  },
  {
   "cell_type": "code",
   "execution_count": 1,
   "metadata": {
    "scrolled": false
   },
   "outputs": [
    {
     "data": {
      "text/html": [
       "<div style=\"width:100%;\"><div style=\"position:relative;width:100%;height:0;padding-bottom:60%;\"><iframe src=\"data:text/html;charset=utf-8;base64,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\" style=\"position:absolute;width:100%;height:100%;left:0;top:0;border:none !important;\" allowfullscreen webkitallowfullscreen mozallowfullscreen></iframe></div></div>"
      ],
      "text/plain": [
       "<folium.folium.Map at 0x7f706830fda0>"
      ]
     },
     "execution_count": 1,
     "metadata": {},
     "output_type": "execute_result"
    }
   ],
   "source": [
    "import folium\n",
    "\n",
    "lat = 51.51\n",
    "long = -0.14\n",
    "\n",
    "#Create a map of the area\n",
    "base_map = folium.Map([lat, long], zoom_start=13)\n",
    "base_map"
   ]
  },
  {
   "cell_type": "markdown",
   "metadata": {},
   "source": [
    "## Adding Markers to the Map\n",
    "\n",
    "Great! Now let's take a look at adding little markers to our map!\n",
    "\n",
    "**Note:** you may have to zoom out to see all of the markers!"
   ]
  },
  {
   "cell_type": "code",
   "execution_count": 2,
   "metadata": {},
   "outputs": [
    {
     "data": {
      "text/html": [
       "<div style=\"width:100%;\"><div style=\"position:relative;width:100%;height:0;padding-bottom:60%;\"><iframe src=\"data:text/html;charset=utf-8;base64,PCFET0NUWVBFIGh0bWw+CjxoZWFkPiAgICAKICAgIDxtZXRhIGh0dHAtZXF1aXY9ImNvbnRlbnQtdHlwZSIgY29udGVudD0idGV4dC9odG1sOyBjaGFyc2V0PVVURi04IiAvPgogICAgPHNjcmlwdD5MX1BSRUZFUl9DQU5WQVM9ZmFsc2U7IExfTk9fVE9VQ0g9ZmFsc2U7IExfRElTQUJMRV8zRD1mYWxzZTs8L3NjcmlwdD4KICAgIDxzY3JpcHQgc3JjPSJodHRwczovL2Nkbi5qc2RlbGl2ci5uZXQvbnBtL2xlYWZsZXRAMS40LjAvZGlzdC9sZWFmbGV0LmpzIj48L3NjcmlwdD4KICAgIDxzY3JpcHQgc3JjPSJodHRwczovL2NvZGUuanF1ZXJ5LmNvbS9qcXVlcnktMS4xMi40Lm1pbi5qcyI+PC9zY3JpcHQ+CiAgICA8c2NyaXB0IHNyYz0iaHR0cHM6Ly9tYXhjZG4uYm9vdHN0cmFwY2RuLmNvbS9ib290c3RyYXAvMy4yLjAvanMvYm9vdHN0cmFwLm1pbi5qcyI+PC9zY3JpcHQ+CiAgICA8c2NyaXB0IHNyYz0iaHR0cHM6Ly9jZG5qcy5jbG91ZGZsYXJlLmNvbS9hamF4L2xpYnMvTGVhZmxldC5hd2Vzb21lLW1hcmtlcnMvMi4wLjIvbGVhZmxldC5hd2Vzb21lLW1hcmtlcnMuanMiPjwvc2NyaXB0PgogICAgPGxpbmsgcmVsPSJzdHlsZXNoZWV0IiBocmVmPSJodHRwczovL2Nkbi5qc2RlbGl2ci5uZXQvbnBtL2xlYWZsZXRAMS40LjAvZGlzdC9sZWFmbGV0LmNzcyIvPgogICAgPGxpbmsgcmVsPSJzdHlsZXNoZWV0IiBocmVmPSJodHRwczovL21heGNkbi5ib290c3RyYXBjZG4uY29tL2Jvb3RzdHJhcC8zLjIuMC9jc3MvYm9vdHN0cmFwLm1pbi5jc3MiLz4KICAgIDxsaW5rIHJlbD0ic3R5bGVzaGVldCIgaHJlZj0iaHR0cHM6Ly9tYXhjZG4uYm9vdHN0cmFwY2RuLmNvbS9ib290c3RyYXAvMy4yLjAvY3NzL2Jvb3RzdHJhcC10aGVtZS5taW4uY3NzIi8+CiAgICA8bGluayByZWw9InN0eWxlc2hlZXQiIGhyZWY9Imh0dHBzOi8vbWF4Y2RuLmJvb3RzdHJhcGNkbi5jb20vZm9udC1hd2Vzb21lLzQuNi4zL2Nzcy9mb250LWF3ZXNvbWUubWluLmNzcyIvPgogICAgPGxpbmsgcmVsPSJzdHlsZXNoZWV0IiBocmVmPSJodHRwczovL2NkbmpzLmNsb3VkZmxhcmUuY29tL2FqYXgvbGlicy9MZWFmbGV0LmF3ZXNvbWUtbWFya2Vycy8yLjAuMi9sZWFmbGV0LmF3ZXNvbWUtbWFya2Vycy5jc3MiLz4KICAgIDxsaW5rIHJlbD0ic3R5bGVzaGVldCIgaHJlZj0iaHR0cHM6Ly9yYXdjZG4uZ2l0aGFjay5jb20vcHl0aG9uLXZpc3VhbGl6YXRpb24vZm9saXVtL21hc3Rlci9mb2xpdW0vdGVtcGxhdGVzL2xlYWZsZXQuYXdlc29tZS5yb3RhdGUuY3NzIi8+CiAgICA8c3R5bGU+aHRtbCwgYm9keSB7d2lkdGg6IDEwMCU7aGVpZ2h0OiAxMDAlO21hcmdpbjogMDtwYWRkaW5nOiAwO308L3N0eWxlPgogICAgPHN0eWxlPiNtYXAge3Bvc2l0aW9uOmFic29sdXRlO3RvcDowO2JvdHRvbTowO3JpZ2h0OjA7bGVmdDowO308L3N0eWxlPgogICAgCiAgICA8bWV0YSBuYW1lPSJ2aWV3cG9ydCIgY29udGVudD0id2lkdGg9ZGV2aWNlLXdpZHRoLAogICAgICAgIGluaXRpYWwtc2NhbGU9MS4wLCBtYXhpbXVtLXNjYWxlPTEuMCwgdXNlci1zY2FsYWJsZT1ubyIgLz4KICAgIDxzdHlsZT4jbWFwXzU4N2M5NWY1ZDRkMDRlZWU4YmYxZmQ1ZWExOWQ4ZjNkIHsKICAgICAgICBwb3NpdGlvbjogcmVsYXRpdmU7CiAgICAgICAgd2lkdGg6IDEwMC4wJTsKICAgICAgICBoZWlnaHQ6IDEwMC4wJTsKICAgICAgICBsZWZ0OiAwLjAlOwogICAgICAgIHRvcDogMC4wJTsKICAgICAgICB9CiAgICA8L3N0eWxlPgo8L2hlYWQ+Cjxib2R5PiAgICAKICAgIAogICAgPGRpdiBjbGFzcz0iZm9saXVtLW1hcCIgaWQ9Im1hcF81ODdjOTVmNWQ0ZDA0ZWVlOGJmMWZkNWVhMTlkOGYzZCIgPjwvZGl2Pgo8L2JvZHk+CjxzY3JpcHQ+ICAgIAogICAgCiAgICAKICAgICAgICB2YXIgYm91bmRzID0gbnVsbDsKICAgIAoKICAgIHZhciBtYXBfNTg3Yzk1ZjVkNGQwNGVlZThiZjFmZDVlYTE5ZDhmM2QgPSBMLm1hcCgKICAgICAgICAnbWFwXzU4N2M5NWY1ZDRkMDRlZWU4YmYxZmQ1ZWExOWQ4ZjNkJywgewogICAgICAgIGNlbnRlcjogWzUxLjUxLCAtMC4xNF0sCiAgICAgICAgem9vbTogMTMsCiAgICAgICAgbWF4Qm91bmRzOiBib3VuZHMsCiAgICAgICAgbGF5ZXJzOiBbXSwKICAgICAgICB3b3JsZENvcHlKdW1wOiBmYWxzZSwKICAgICAgICBjcnM6IEwuQ1JTLkVQU0czODU3LAogICAgICAgIHpvb21Db250cm9sOiB0cnVlLAogICAgICAgIH0pOwoKCiAgICAKICAgIHZhciB0aWxlX2xheWVyXzc5ZjBjODc5ZjhkNjQ1OWQ4ZGExN2ZiNGQ2NDJkMDFhID0gTC50aWxlTGF5ZXIoCiAgICAgICAgJ2h0dHBzOi8ve3N9LnRpbGUub3BlbnN0cmVldG1hcC5vcmcve3p9L3t4fS97eX0ucG5nJywKICAgICAgICB7CiAgICAgICAgImF0dHJpYnV0aW9uIjogbnVsbCwKICAgICAgICAiZGV0ZWN0UmV0aW5hIjogZmFsc2UsCiAgICAgICAgIm1heE5hdGl2ZVpvb20iOiAxOCwKICAgICAgICAibWF4Wm9vbSI6IDE4LAogICAgICAgICJtaW5ab29tIjogMCwKICAgICAgICAibm9XcmFwIjogZmFsc2UsCiAgICAgICAgIm9wYWNpdHkiOiAxLAogICAgICAgICJzdWJkb21haW5zIjogImFiYyIsCiAgICAgICAgInRtcyI6IGZhbHNlCn0pLmFkZFRvKG1hcF81ODdjOTVmNWQ0ZDA0ZWVlOGJmMWZkNWVhMTlkOGYzZCk7CiAgICAKICAgICAgICB2YXIgbWFya2VyX2Y0NTRjODY0MDI2NzQyYjU4Y2Q1MTUyZTkwNGVlYmQ3ID0gTC5tYXJrZXIoCiAgICAgICAgICAgIFs1MS40ODI1MTg1OTU2Mzg3MywgLTAuMTQ4ODk1MzA2ODc4MTIyNzJdLAogICAgICAgICAgICB7CiAgICAgICAgICAgICAgICBpY29uOiBuZXcgTC5JY29uLkRlZmF1bHQoKSwKICAgICAgICAgICAgICAgIH0KICAgICAgICAgICAgKS5hZGRUbyhtYXBfNTg3Yzk1ZjVkNGQwNGVlZThiZjFmZDVlYTE5ZDhmM2QpOwogICAgICAgIAogICAgCiAgICAgICAgdmFyIG1hcmtlcl8wMzkwMGY0MjUyMWQ0NTJjOWUyYTk5ODU4NjY4ZTBiMiA9IEwubWFya2VyKAogICAgICAgICAgICBbNTEuNDQzOTU0MDYzMjIwNzksIC0wLjIwMDMxMzI4MDIwNTI2MzU3XSwKICAgICAgICAgICAgewogICAgICAgICAgICAgICAgaWNvbjogbmV3IEwuSWNvbi5EZWZhdWx0KCksCiAgICAgICAgICAgICAgICB9CiAgICAgICAgICAgICkuYWRkVG8obWFwXzU4N2M5NWY1ZDRkMDRlZWU4YmYxZmQ1ZWExOWQ4ZjNkKTsKICAgICAgICAKICAgIAogICAgICAgIHZhciBtYXJrZXJfMjExMjlkNTk5ODQ0NDZlNDhhYjYyZmI4ZGYxNDM5OWYgPSBMLm1hcmtlcigKICAgICAgICAgICAgWzUxLjQ5NDE1MzA2NjA3NDA0LCAtMC4xODk2MDA3MTgwMTQzMjk3M10sCiAgICAgICAgICAgIHsKICAgICAgICAgICAgICAgIGljb246IG5ldyBMLkljb24uRGVmYXVsdCgpLAogICAgICAgICAgICAgICAgfQogICAgICAgICAgICApLmFkZFRvKG1hcF81ODdjOTVmNWQ0ZDA0ZWVlOGJmMWZkNWVhMTlkOGYzZCk7CiAgICAgICAgCiAgICAKICAgICAgICB2YXIgbWFya2VyXzMwZTk5MjgyNGI0ZDRiOGNhMjA2ZjI1OWEwYzM3OWE3ID0gTC5tYXJrZXIoCiAgICAgICAgICAgIFs1MS41MzEyNDQ3OTYwMDE4NywgLTAuMDcyNjQ3MTUzNTYzNzI4NV0sCiAgICAgICAgICAgIHsKICAgICAgICAgICAgICAgIGljb246IG5ldyBMLkljb24uRGVmYXVsdCgpLAogICAgICAgICAgICAgICAgfQogICAgICAgICAgICApLmFkZFRvKG1hcF81ODdjOTVmNWQ0ZDA0ZWVlOGJmMWZkNWVhMTlkOGYzZCk7CiAgICAgICAgCiAgICAKICAgICAgICB2YXIgbWFya2VyX2IzYzkyM2I4NTNmOTRlMzRhZWZjOGVjMmIxMTg3YzIzID0gTC5tYXJrZXIoCiAgICAgICAgICAgIFs1MS41NjM1MjMyNjMyMDEzMywgLTAuMTg3NjUxMTA5NzM0OTI0OTZdLAogICAgICAgICAgICB7CiAgICAgICAgICAgICAgICBpY29uOiBuZXcgTC5JY29uLkRlZmF1bHQoKSwKICAgICAgICAgICAgICAgIH0KICAgICAgICAgICAgKS5hZGRUbyhtYXBfNTg3Yzk1ZjVkNGQwNGVlZThiZjFmZDVlYTE5ZDhmM2QpOwogICAgICAgIAogICAgCiAgICAgICAgdmFyIG1hcmtlcl81MjU0NjE1ZDAzNDU0YWNlOGE3YmY5ZTM4YmIyMzM5MiA9IEwubWFya2VyKAogICAgICAgICAgICBbNTEuNDY1OTk4MzYyNDcxMDA1LCAtMC4yMzQ1MzgwNjYxOTcyMzM4OV0sCiAgICAgICAgICAgIHsKICAgICAgICAgICAgICAgIGljb246IG5ldyBMLkljb24uRGVmYXVsdCgpLAogICAgICAgICAgICAgICAgfQogICAgICAgICAgICApLmFkZFRvKG1hcF81ODdjOTVmNWQ0ZDA0ZWVlOGJmMWZkNWVhMTlkOGYzZCk7CiAgICAgICAgCiAgICAKICAgICAgICB2YXIgbWFya2VyXzE1ZTQ1M2RhNDA2MzQ4ZjI4NDFhZDBkYWE2ZTA0ODNhID0gTC5tYXJrZXIoCiAgICAgICAgICAgIFs1MS41MzE1OTQ3NjA5OTU1MiwgLTAuMDc5MjU1OTYxMTcwOTE2NzRdLAogICAgICAgICAgICB7CiAgICAgICAgICAgICAgICBpY29uOiBuZXcgTC5JY29uLkRlZmF1bHQoKSwKICAgICAgICAgICAgICAgIH0KICAgICAgICAgICAgKS5hZGRUbyhtYXBfNTg3Yzk1ZjVkNGQwNGVlZThiZjFmZDVlYTE5ZDhmM2QpOwogICAgICAgIAogICAgCiAgICAgICAgdmFyIG1hcmtlcl9iM2EwZjljYTgyYzg0MTI0OTM0ODc5MWUzZmZjZTdiNiA9IEwubWFya2VyKAogICAgICAgICAgICBbNTEuNTM2MjUwMDUzMjEwMzQsIC0wLjE5NzY5ODA2NDE0MTM4MDJdLAogICAgICAgICAgICB7CiAgICAgICAgICAgICAgICBpY29uOiBuZXcgTC5JY29uLkRlZmF1bHQoKSwKICAgICAgICAgICAgICAgIH0KICAgICAgICAgICAgKS5hZGRUbyhtYXBfNTg3Yzk1ZjVkNGQwNGVlZThiZjFmZDVlYTE5ZDhmM2QpOwogICAgICAgIAogICAgCiAgICAgICAgdmFyIG1hcmtlcl84ZjJhZGQ0NTIzZjg0NzQ5YTFjNTVhZTljYzQ0Y2ExZSA9IEwubWFya2VyKAogICAgICAgICAgICBbNTEuNDYwMTQ2OTYwMDczNzUsIC0wLjEzMzk0NDUxMzk1NjkzNjRdLAogICAgICAgICAgICB7CiAgICAgICAgICAgICAgICBpY29uOiBuZXcgTC5JY29uLkRlZmF1bHQoKSwKICAgICAgICAgICAgICAgIH0KICAgICAgICAgICAgKS5hZGRUbyhtYXBfNTg3Yzk1ZjVkNGQwNGVlZThiZjFmZDVlYTE5ZDhmM2QpOwogICAgICAgIAogICAgCiAgICAgICAgdmFyIG1hcmtlcl8xMjdiNWMyYjcyOTQ0NWIyODM5ZDA5YTg3NWExZjkzYiA9IEwubWFya2VyKAogICAgICAgICAgICBbNTEuNDE5MDM2MDYwNDM3NzcsIC0wLjIzNzQ3MjQzNjE1MTE5NzczXSwKICAgICAgICAgICAgewogICAgICAgICAgICAgICAgaWNvbjogbmV3IEwuSWNvbi5EZWZhdWx0KCksCiAgICAgICAgICAgICAgICB9CiAgICAgICAgICAgICkuYWRkVG8obWFwXzU4N2M5NWY1ZDRkMDRlZWU4YmYxZmQ1ZWExOWQ4ZjNkKTsKICAgICAgICAKICAgIAogICAgICAgIHZhciBtYXJrZXJfMTQ0Zjk1Y2RhN2JmNDVkMzllN2MyZjE5YTQ5MjUzZTQgPSBMLm1hcmtlcigKICAgICAgICAgICAgWzUxLjQ3NDE2NTM2Mjg0Nzc4NSwgLTAuMTA3Nzc1NDA3NDU2MzgwNjJdLAogICAgICAgICAgICB7CiAgICAgICAgICAgICAgICBpY29uOiBuZXcgTC5JY29uLkRlZmF1bHQoKSwKICAgICAgICAgICAgICAgIH0KICAgICAgICAgICAgKS5hZGRUbyhtYXBfNTg3Yzk1ZjVkNGQwNGVlZThiZjFmZDVlYTE5ZDhmM2QpOwogICAgICAgIAogICAgCiAgICAgICAgdmFyIG1hcmtlcl82MTliNjhmYzA0YjQ0NGMyODFlMDBmNWQ5YjQxZjg1YyA9IEwubWFya2VyKAogICAgICAgICAgICBbNTEuNTM0NDMyOTQ5NDMxNzk2LCAtMC4xNjk3NTk0MTQ1MTc1MjA1OF0sCiAgICAgICAgICAgIHsKICAgICAgICAgICAgICAgIGljb246IG5ldyBMLkljb24uRGVmYXVsdCgpLAogICAgICAgICAgICAgICAgfQogICAgICAgICAgICApLmFkZFRvKG1hcF81ODdjOTVmNWQ0ZDA0ZWVlOGJmMWZkNWVhMTlkOGYzZCk7CiAgICAgICAgCiAgICAKICAgICAgICB2YXIgbWFya2VyXzUxZjEzY2YyNDRkMjQ5ZjQ4ODAwZWE3OTU5YmJmZDU3ID0gTC5tYXJrZXIoCiAgICAgICAgICAgIFs1MS40NTAyNDkyMDEzNTEwNiwgLTAuMTQ3OTk0Mzg1NzkwMDc2NjVdLAogICAgICAgICAgICB7CiAgICAgICAgICAgICAgICBpY29uOiBuZXcgTC5JY29uLkRlZmF1bHQoKSwKICAgICAgICAgICAgICAgIH0KICAgICAgICAgICAgKS5hZGRUbyhtYXBfNTg3Yzk1ZjVkNGQwNGVlZThiZjFmZDVlYTE5ZDhmM2QpOwogICAgICAgIAogICAgCiAgICAgICAgdmFyIG1hcmtlcl8yMTZmZWY4MDU1MWY0N2FiYjA5NTkwNzA1Y2ZhYmViNyA9IEwubWFya2VyKAogICAgICAgICAgICBbNTEuNDIwODA3NjA1MDY0MDYsIC0wLjA2NjE5NDI2NTQwODE4MzE2XSwKICAgICAgICAgICAgewogICAgICAgICAgICAgICAgaWNvbjogbmV3IEwuSWNvbi5EZWZhdWx0KCksCiAgICAgICAgICAgICAgICB9CiAgICAgICAgICAgICkuYWRkVG8obWFwXzU4N2M5NWY1ZDRkMDRlZWU4YmYxZmQ1ZWExOWQ4ZjNkKTsKICAgICAgICAKICAgIAogICAgICAgIHZhciBtYXJrZXJfMmYyNmUxOWJmN2RiNDJlYzliZmM1Y2ZjMzM4ZjhhZjEgPSBMLm1hcmtlcigKICAgICAgICAgICAgWzUxLjUyNTMyNDkyNDQxNjEzLCAtMC4xNzQwNzY5NDkxMTc3ODU4NV0sCiAgICAgICAgICAgIHsKICAgICAgICAgICAgICAgIGljb246IG5ldyBMLkljb24uRGVmYXVsdCgpLAogICAgICAgICAgICAgICAgfQogICAgICAgICAgICApLmFkZFRvKG1hcF81ODdjOTVmNWQ0ZDA0ZWVlOGJmMWZkNWVhMTlkOGYzZCk7CiAgICAgICAgCiAgICAKICAgICAgICB2YXIgbWFya2VyXzQzNGRlNTBjZjI4NDRmODk5YWFjOTRiN2VmNDhkNTJmID0gTC5tYXJrZXIoCiAgICAgICAgICAgIFs1MS41OTE0Mjc0NDkxNjk4MywgLTAuMDg2MjA3MTI5NjY2NjEyNF0sCiAgICAgICAgICAgIHsKICAgICAgICAgICAgICAgIGljb246IG5ldyBMLkljb24uRGVmYXVsdCgpLAogICAgICAgICAgICAgICAgfQogICAgICAgICAgICApLmFkZFRvKG1hcF81ODdjOTVmNWQ0ZDA0ZWVlOGJmMWZkNWVhMTlkOGYzZCk7CiAgICAgICAgCiAgICAKICAgICAgICB2YXIgbWFya2VyXzZkYjI1MzcwNmU1MTQ5MmY4ZTE1NmYxNDA0MWJhNWZkID0gTC5tYXJrZXIoCiAgICAgICAgICAgIFs1MS41MDg3OTU5ODk0MDQ5NjYsIC0wLjEzOTM0MTgzMDg2MTk5Mjg3XSwKICAgICAgICAgICAgewogICAgICAgICAgICAgICAgaWNvbjogbmV3IEwuSWNvbi5EZWZhdWx0KCksCiAgICAgICAgICAgICAgICB9CiAgICAgICAgICAgICkuYWRkVG8obWFwXzU4N2M5NWY1ZDRkMDRlZWU4YmYxZmQ1ZWExOWQ4ZjNkKTsKICAgICAgICAKICAgIAogICAgICAgIHZhciBtYXJrZXJfYTYwNmI4NzMxZTk5NDk5MmE0ZDdjNGI3OTBiMjdhY2QgPSBMLm1hcmtlcigKICAgICAgICAgICAgWzUxLjU2Njk0MDkzNzA4NzM3LCAtMC4xNzE2Njg3MjMxMDI3Mjc5Nl0sCiAgICAgICAgICAgIHsKICAgICAgICAgICAgICAgIGljb246IG5ldyBMLkljb24uRGVmYXVsdCgpLAogICAgICAgICAgICAgICAgfQogICAgICAgICAgICApLmFkZFRvKG1hcF81ODdjOTVmNWQ0ZDA0ZWVlOGJmMWZkNWVhMTlkOGYzZCk7CiAgICAgICAgCiAgICAKICAgICAgICB2YXIgbWFya2VyX2IxNTg3YmZlY2MwYTQ3OThhNDE2OTU2MzMwNzVlYzVkID0gTC5tYXJrZXIoCiAgICAgICAgICAgIFs1MS40OTk3MDg5Nzk5OTg3NSwgLTAuMDk4NjczOTM0MTk3MDQ2MDFdLAogICAgICAgICAgICB7CiAgICAgICAgICAgICAgICBpY29uOiBuZXcgTC5JY29uLkRlZmF1bHQoKSwKICAgICAgICAgICAgICAgIH0KICAgICAgICAgICAgKS5hZGRUbyhtYXBfNTg3Yzk1ZjVkNGQwNGVlZThiZjFmZDVlYTE5ZDhmM2QpOwogICAgICAgIAogICAgCiAgICAgICAgdmFyIG1hcmtlcl9kOWFjZDMyMDVkNDc0MWZmOGUyOWU1NjVlZmY1ZmM5NCA9IEwubWFya2VyKAogICAgICAgICAgICBbNTEuNDcyNDI4MjM5MzE4OTIsIC0wLjIyMjQ4MTA1OTgzOTgyMThdLAogICAgICAgICAgICB7CiAgICAgICAgICAgICAgICBpY29uOiBuZXcgTC5JY29uLkRlZmF1bHQoKSwKICAgICAgICAgICAgICAgIH0KICAgICAgICAgICAgKS5hZGRUbyhtYXBfNTg3Yzk1ZjVkNGQwNGVlZThiZjFmZDVlYTE5ZDhmM2QpOwogICAgICAgIAo8L3NjcmlwdD4=\" style=\"position:absolute;width:100%;height:100%;left:0;top:0;border:none !important;\" allowfullscreen webkitallowfullscreen mozallowfullscreen></iframe></div></div>"
      ],
      "text/plain": [
       "<folium.folium.Map at 0x7f706830fda0>"
      ]
     },
     "execution_count": 2,
     "metadata": {},
     "output_type": "execute_result"
    }
   ],
   "source": [
    "import numpy as np\n",
    "\n",
    "#Generate some random locations to add to our map\n",
    "x = [lat + np.random.uniform(-.1,.1) for i in range(20)]\n",
    "y = [long + np.random.uniform(-.1,.1) for i in range(20)]\n",
    "points = list(zip(x, y))\n",
    "for p in points:\n",
    "    lat = p[0]\n",
    "    long = p[1]\n",
    "    marker = folium.Marker(location=[lat, long])\n",
    "    marker.add_to(base_map)\n",
    "base_map"
   ]
  },
  {
   "cell_type": "markdown",
   "metadata": {},
   "source": [
    "## Adding Pop-up Boxes to Our Markers\n",
    "\n",
    "Often we may wish to not only place markers on the map, but to create interactive pop-ups which display information to that location. To do this, we can add a popup to our markers when adding them to the map! "
   ]
  },
  {
   "cell_type": "code",
   "execution_count": null,
   "metadata": {},
   "outputs": [],
   "source": [
    "for p in points:\n",
    "    lat = p[0]\n",
    "    long = p[1]\n",
    "    popup_text = \"Latitude: {}, Longitude: {}\".format(lat,long)\n",
    "    popup = folium.Popup(popup_text, parse_html=True)\n",
    "    marker = folium.Marker(location=[lat, long], popup=popup)\n",
    "    marker.add_to(base_map)\n",
    "base_map"
   ]
  },
  {
   "cell_type": "markdown",
   "metadata": {},
   "source": [
    "Now, if you click on the map markers, you should see a little information box pop up!\n",
    "\n",
    "## Summary \n",
    "\n",
    "In this codealong, we learned how to use Folium to create some cool interactive maps with only a few lines of python code! In the next lab, you'll synthesize your skills for the day together and create an interactive visualization map for data you retrieve from the Yelp API!"
   ]
  }
 ],
 "metadata": {
  "kernelspec": {
   "display_name": "Python 3",
   "language": "python",
   "name": "python3"
  },
  "language_info": {
   "codemirror_mode": {
    "name": "ipython",
    "version": 3
   },
   "file_extension": ".py",
   "mimetype": "text/x-python",
   "name": "python",
   "nbconvert_exporter": "python",
   "pygments_lexer": "ipython3",
   "version": "3.6.6"
  }
 },
 "nbformat": 4,
 "nbformat_minor": 2
}
